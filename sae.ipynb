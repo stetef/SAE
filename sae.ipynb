{
 "cells": [
  {
   "cell_type": "raw",
   "metadata": {
    "vscode": {
     "languageId": "raw"
    }
   },
   "source": [
    "# SAEs\n",
    "Sam Tetef and Gareth Tan"
   ]
  },
  {
   "cell_type": "code",
   "execution_count": null,
   "metadata": {},
   "outputs": [],
   "source": [
    "import torch\n",
    "import torch.nn as nn\n",
    "import einops\n",
    "import transformer_lens\n",
    "from datasets import load_dataset\n",
    "from dotenv import load_dotenv\n",
    "\n",
    "load_dotenv()\n",
    "\n",
    "import os\n",
    "hf_token = os.getenv('HF_TOKEN')"
   ]
  },
  {
   "cell_type": "code",
   "execution_count": null,
   "metadata": {},
   "outputs": [],
   "source": [
    "# data\n",
    "banana_bonanza = load_dataset(\"stetef/Banana-Bonanza\")"
   ]
  },
  {
   "cell_type": "code",
   "execution_count": null,
   "metadata": {},
   "outputs": [],
   "source": [
    "class SAE(nn.Module):\n",
    "    def __init__(self, hidden_dim, latent_dim, input_dim):\n",
    "        super().__init__()\n",
    "        self.hidden_dim = hidden_dim\n",
    "        self.latent_dim = latent_dim\n",
    "        self.input_dim = input_dim\n",
    "\n",
    "        self.encoder_layer1 = nn.Linear(input_dim, hidden_dim, bias=True)\n",
    "        self.relu1 = nn.ReLU()\n",
    "        self.encoder_layer2 = nn.Linear(hidden_dim, latent_dim, bias=True)\n",
    "        self.relu2 = nn.ReLU()\n",
    "\n",
    "        self.decoder_layer1 = nn.Linear(latent_dim, hidden_dim, bias=True)\n",
    "        self.relu3 = nn.ReLU()\n",
    "        self.decoder_layer2 = nn.Linear(hidden_dim, input_dim, bias=True)\n",
    "\n",
    "    def encode(self, data):\n",
    "        hidden_layer = self.relu1(self.encoder_layer1(data))\n",
    "        return self.relu2(self.encoder_layer2(hidden_layer))\n",
    "    \n",
    "    def decode(self, latent_space):\n",
    "        hidden_layer = self.relu3(self.decoder_layer1(latent_space))\n",
    "        return self.decoder_layer2(hidden_layer)\n",
    "    \n",
    "    def forward(self, data):\n",
    "        encoding = self.encode(data)\n",
    "        reconstruction = self.decode(encoding)\n",
    "        return reconstruction, encoding"
   ]
  },
  {
   "cell_type": "code",
   "execution_count": null,
   "metadata": {},
   "outputs": [],
   "source": [
    "def loss(model, data, beta, sparsity_param):\n",
    "    batch_reconstruction, batch_encoding = model.forward(data)\n",
    "    reconstruction_error = (batch_reconstruction - data).pow(2)\n",
    "    l2_error = einops.reduce(reconstruction_error, 'batch_size input_dim -> batch_size', 'sum').mean()\n",
    "\n",
    "    # l1_error = batch_encoding.sum()\n",
    "    kl_lossifier = nn.KLDivLoss(reduction='sum')  # should have batch size\n",
    "    sparsity_loss = kl_lossifier(sparsity_param, batch_encoding)\n",
    "    return l2_error +  beta * sparsity_loss"
   ]
  },
  {
   "cell_type": "code",
   "execution_count": null,
   "metadata": {},
   "outputs": [],
   "source": [
    "# model to analyze\n",
    "model_checkpoint = \"meta-llama/Llama-3.2-1B\"\n",
    "model = transformer_lens.HookedTransformer.from_pretrained(model_checkpoint)"
   ]
  },
  {
   "cell_type": "code",
   "execution_count": null,
   "metadata": {},
   "outputs": [],
   "source": [
    "# hyperparams\n"
   ]
  },
  {
   "cell_type": "code",
   "execution_count": null,
   "metadata": {},
   "outputs": [],
   "source": [
    "sae = SAE()"
   ]
  }
 ],
 "metadata": {
  "kernelspec": {
   "display_name": "Python 3 (ipykernel)",
   "language": "python",
   "name": "python3"
  },
  "language_info": {
   "codemirror_mode": {
    "name": "ipython",
    "version": 3
   },
   "file_extension": ".py",
   "mimetype": "text/x-python",
   "name": "python",
   "nbconvert_exporter": "python",
   "pygments_lexer": "ipython3",
   "version": "3.12.9"
  }
 },
 "nbformat": 4,
 "nbformat_minor": 2
}
